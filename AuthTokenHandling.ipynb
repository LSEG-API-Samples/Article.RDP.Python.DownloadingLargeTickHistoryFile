{
 "cells": [
  {
   "cell_type": "markdown",
   "id": "65f2706e-9ce7-495f-bacb-c09aefcfeb8b",
   "metadata": {},
   "source": [
    "<img src=\"./files/refinitiv.png\" width=\"20%\" style=\"vertical-align: top;\">\\\n",
    "\n",
    "---- \n",
    "This source code is provided under the Apache 2.0 license\\\n",
    "and is provided AS IS with no warranty or guarantee of fit for purpose.\\\n",
    "See the project's LICENSE.md for details.\\\n",
    "Copyright (C) 2022 Refinitiv. All rights reserved.\n",
    "---- "
   ]
  },
  {
   "cell_type": "markdown",
   "id": "8610235a-68c9-44bf-8177-5af93d1ac4da",
   "metadata": {},
   "source": [
    "# Authentication Token Handling\n",
    "This is not an independent example, this code is inteded to be imported for use by other modules"
   ]
  },
  {
   "cell_type": "markdown",
   "id": "4939c5f9-6235-43a3-b74d-ae5209eea1f1",
   "metadata": {},
   "source": [
    "### Import Libraries and Define Application Constants"
   ]
  },
  {
   "cell_type": "code",
   "execution_count": 17,
   "id": "e06fa105-37c9-41b8-bdc0-d7cad17619db",
   "metadata": {},
   "outputs": [],
   "source": [
    "import requests, json, time\n",
    "\n",
    "# Set Application Constants\n",
    "RDP_AUTH_VERSION = \"/v1\"\n",
    "RDP_CFS_VERSION = \"/v1\"\n",
    "RDP_BASE_URL = \"https://api.refinitiv.com\"\n",
    "CATEGORY_URL = \"/auth/oauth2\"\n",
    "ENDPOINT_URL = \"/token\"\n",
    "CLIENT_SECRET = \"\"\n",
    "TOKEN_FILE = \"token.txt\"\n",
    "SCOPE = \"trapi\""
   ]
  },
  {
   "cell_type": "markdown",
   "id": "dd53d4ef-3099-4a01-afe5-ac121b02bba7",
   "metadata": {},
   "source": [
    "### Set Valid Credentials \n",
    "\n",
    "Valid RDP credentials are required to proceed:\n",
    "* USERNAME\n",
    "* PASSWORD\n",
    "* CLIENTID\n",
    "\n",
    "To read one's valid credentials from a file (that can be shared by many code examples), leave below code as is.\n",
    "\n",
    "To provide credentials in place:\n",
    "* replace the commented credentials with one's valid assigned credentials\n",
    "* comment the read from file step readCredsFromFile"
   ]
  },
  {
   "cell_type": "code",
   "execution_count": 18,
   "id": "a5d6c399-1347-41dc-9503-b91838ca157a",
   "metadata": {},
   "outputs": [],
   "source": [
    "USERNAME = \"VALIDUSER\"\n",
    "PASSWORD = \"VALIDPASSWORD\"\n",
    "CLIENT_ID = \"SELFGENERATEDCLIENTID\"\n",
    "\n",
    "def readCredsFromFile(filePathName):\n",
    "### Read valid credentials from file\n",
    "    global USERNAME, PASSWORD, CLIENT_ID\n",
    "    credFile = open(filePathName,\"r\")    # one per line\n",
    "                                                #--- RDP MACHINE ID---\n",
    "                                                #--- LONG PASSWORD---\n",
    "                                                #--- GENERATED CLIENT ID---\n",
    "\n",
    "    USERNAME = credFile.readline().rstrip('\\n')\n",
    "    PASSWORD = credFile.readline().rstrip('\\n')\n",
    "    CLIENT_ID = credFile.readline().rstrip('\\n')\n",
    "\n",
    "    credFile.close()\n",
    "\n",
    "readCredsFromFile(\"..\\creds\\credFileHuman.txt\")\n",
    "\n",
    "# Uncomment - to make sure that creds are either set in code or read in correctly\n",
    "#print(\"USERNAME=\"+str(USERNAME))\n",
    "#print(\"PASSWORD=\"+str(PASSWORD))\n",
    "#print(\"CLIENT_ID=\"+str(CLIENT_ID))"
   ]
  },
  {
   "cell_type": "markdown",
   "id": "1792c21c-144f-413a-853a-54035de4099d",
   "metadata": {},
   "source": [
    "### Define Token Handling\n",
    "​\n",
    "Having a valid token is a pre-requisite to requesting of any RDP content"
   ]
  },
  {
   "cell_type": "code",
   "execution_count": 19,
   "id": "cd568ac6-7d26-45b6-a1c4-440cf1225e42",
   "metadata": {},
   "outputs": [],
   "source": [
    "TOKEN_ENDPOINT = RDP_BASE_URL + CATEGORY_URL + RDP_AUTH_VERSION + ENDPOINT_URL\n",
    "\n",
    "def _requestNewToken(refreshToken):\n",
    "    if refreshToken is None:\n",
    "        tData = {\n",
    "            \"username\": USERNAME,\n",
    "            \"password\": PASSWORD,\n",
    "            \"grant_type\": \"password\",\n",
    "            \"scope\": SCOPE,\n",
    "            \"takeExclusiveSignOnControl\": \"true\"\n",
    "        };\n",
    "    else:\n",
    "        tData = {\n",
    "            \"refresh_token\": refreshToken,\n",
    "            \"grant_type\": \"refresh_token\",\n",
    "        };\n",
    "\n",
    "    # Make a REST call to get latest access token\n",
    "    response = requests.post(\n",
    "        TOKEN_ENDPOINT,\n",
    "        headers = {\n",
    "            \"Accept\": \"application/json\"\n",
    "        },\n",
    "        data = tData,\n",
    "        auth = (\n",
    "            CLIENT_ID,\n",
    "            CLIENT_SECRET\n",
    "        )\n",
    "    )\n",
    "    \n",
    "    if response.status_code != 200:\n",
    "        raise Exception(\"Failed to get access token {0} - {1}\".format(response.status_code, response.text));\n",
    "\n",
    "    # Return the new token\n",
    "    return json.loads(response.text);\n",
    "\n",
    "def saveToken(tknObject):\n",
    "    tf = open(TOKEN_FILE, \"w+\");\n",
    "    print(\"Saving the new token\");\n",
    "    # Append the expiry time to token\n",
    "    tknObject[\"expiry_tm\"] = time.time() + int(tknObject[\"expires_in\"]) - 10;\n",
    "    # Store it in the file\n",
    "    json.dump(tknObject, tf, indent=4)\n",
    "    \n",
    "def getToken():\n",
    "    try:\n",
    "        print(\"Reading the token from: \" + TOKEN_FILE);\n",
    "        # Read the token from a file\n",
    "        tf = open(TOKEN_FILE, \"r+\")\n",
    "        tknObject = json.load(tf);\n",
    "\n",
    "        # Is access token valid\n",
    "        if tknObject[\"expiry_tm\"] > time.time():\n",
    "            # return access token\n",
    "            return tknObject[\"access_token\"];\n",
    "\n",
    "        print(\"Token expired, refreshing a new one...\");\n",
    "        tf.close();\n",
    "        # Get a new token from refresh token\n",
    "        tknObject = _requestNewToken(tknObject[\"refresh_token\"]);\n",
    "\n",
    "    except Exception as exp:\n",
    "        print(\"Caught exception: \" + str(exp))\n",
    "        print(\"Getting a new token using Password Grant...\");\n",
    "        tknObject = _requestNewToken(None);\n",
    "\n",
    "    # Persist this token for future queries\n",
    "    saveToken(tknObject)\n",
    "    print(\"Token is: \" + tknObject[\"access_token\"])\n",
    "    # Return access token\n",
    "    return tknObject[\"access_token\"];"
   ]
  },
  {
   "cell_type": "markdown",
   "id": "73382eb7-82dd-46aa-a2c9-49701f7da4de",
   "metadata": {},
   "source": [
    "###  Test getToken"
   ]
  },
  {
   "cell_type": "code",
   "execution_count": 20,
   "id": "d63b15b1-2068-4d26-953e-a795e688b741",
   "metadata": {},
   "outputs": [
    {
     "name": "stdout",
     "output_type": "stream",
     "text": [
      "Reading the token from: token.txt\n",
      "Caught exception: Expecting value: line 1 column 1 (char 0)\n",
      "Getting a new token using Password Grant...\n",
      "Saving the new token\n",
      "Token is: eyJ0eXAiOiJhdCtqd3QiLCJhbGciOiJSUzI1NiIsImtpZCI6ImRMdFd2Q0tCSC1NclVyWm9YMXFod2pZQ2t1eDV0V2ZSS2o4ME9vcjdUY28ifQ.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.NRUWJ7sOeGXEBZ70AnJ3-vqc4WyUcayQe7vvgrU-A26ZVe46rOhXqLp-LlHkvZIR5rVNiusHMyxtgXHuN2OaGVS7pexS4I4oR-TwaFwNauNoxfyCmj_EpYy8oGYRvwcc46Jjj2D53lYx7cmQiMVN0XqXkCaVZ_PJIwhGZskgXDZDS13OYKKvE9lHwiA61090yNV62CjEx7ulYzfevomhGxFOeUchhzYMdfnEiL60AVukd8PJA2CDheAHPbB6xXxr4CCtcT3esJcKlalYYZ8_Wv-AVMox8wTVDdH9vtFzkaU8KMqLyYwjt2DsTiiHcnrIN2zmyuWjs8WtAC30tlBU0Q\n",
      "Have token now\n"
     ]
    }
   ],
   "source": [
    "accessToken = getToken();\n",
    "print(\"Have token now\");"
   ]
  },
  {
   "cell_type": "code",
   "execution_count": null,
   "id": "d169ff86-beda-4669-b0d7-db3f7703b4f9",
   "metadata": {},
   "outputs": [],
   "source": []
  }
 ],
 "metadata": {
  "kernelspec": {
   "display_name": "Python 3 (ipykernel)",
   "language": "python",
   "name": "python3"
  },
  "language_info": {
   "codemirror_mode": {
    "name": "ipython",
    "version": 3
   },
   "file_extension": ".py",
   "mimetype": "text/x-python",
   "name": "python",
   "nbconvert_exporter": "python",
   "pygments_lexer": "ipython3",
   "version": "3.8.8"
  }
 },
 "nbformat": 4,
 "nbformat_minor": 5
}
